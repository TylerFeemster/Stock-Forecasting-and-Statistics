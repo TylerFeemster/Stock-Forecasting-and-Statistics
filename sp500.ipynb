{
 "cells": [
  {
   "cell_type": "markdown",
   "metadata": {},
   "source": [
    "# S&P 500 Historical Composition"
   ]
  },
  {
   "cell_type": "code",
   "execution_count": 1,
   "metadata": {},
   "outputs": [
    {
     "data": {
      "text/html": [
       "<div>\n",
       "<style scoped>\n",
       "    .dataframe tbody tr th:only-of-type {\n",
       "        vertical-align: middle;\n",
       "    }\n",
       "\n",
       "    .dataframe tbody tr th {\n",
       "        vertical-align: top;\n",
       "    }\n",
       "\n",
       "    .dataframe thead th {\n",
       "        text-align: right;\n",
       "    }\n",
       "</style>\n",
       "<table border=\"1\" class=\"dataframe\">\n",
       "  <thead>\n",
       "    <tr style=\"text-align: right;\">\n",
       "      <th></th>\n",
       "      <th>date</th>\n",
       "      <th>tickers</th>\n",
       "    </tr>\n",
       "  </thead>\n",
       "  <tbody>\n",
       "    <tr>\n",
       "      <th>0</th>\n",
       "      <td>1996-01-02</td>\n",
       "      <td>AAL,AAMRQ,AAPL,ABI,ABS,ABT,ABX,ACKH,ACV,ADM,AD...</td>\n",
       "    </tr>\n",
       "    <tr>\n",
       "      <th>1</th>\n",
       "      <td>1996-01-03</td>\n",
       "      <td>AAL,AAMRQ,AAPL,ABI,ABS,ABT,ABX,ACKH,ACV,ADM,AD...</td>\n",
       "    </tr>\n",
       "    <tr>\n",
       "      <th>2</th>\n",
       "      <td>1996-01-04</td>\n",
       "      <td>AAL,AAMRQ,AAPL,ABI,ABS,ABT,ABX,ACKH,ACV,ADM,AD...</td>\n",
       "    </tr>\n",
       "    <tr>\n",
       "      <th>3</th>\n",
       "      <td>1996-01-10</td>\n",
       "      <td>AAL,AAMRQ,AAPL,ABI,ABS,ABT,ABX,ACKH,ACV,ADM,AD...</td>\n",
       "    </tr>\n",
       "    <tr>\n",
       "      <th>4</th>\n",
       "      <td>1996-01-11</td>\n",
       "      <td>AAL,AAMRQ,AAPL,ABI,ABS,ABT,ABX,ACKH,ACV,ADM,AD...</td>\n",
       "    </tr>\n",
       "  </tbody>\n",
       "</table>\n",
       "</div>"
      ],
      "text/plain": [
       "         date                                            tickers\n",
       "0  1996-01-02  AAL,AAMRQ,AAPL,ABI,ABS,ABT,ABX,ACKH,ACV,ADM,AD...\n",
       "1  1996-01-03  AAL,AAMRQ,AAPL,ABI,ABS,ABT,ABX,ACKH,ACV,ADM,AD...\n",
       "2  1996-01-04  AAL,AAMRQ,AAPL,ABI,ABS,ABT,ABX,ACKH,ACV,ADM,AD...\n",
       "3  1996-01-10  AAL,AAMRQ,AAPL,ABI,ABS,ABT,ABX,ACKH,ACV,ADM,AD...\n",
       "4  1996-01-11  AAL,AAMRQ,AAPL,ABI,ABS,ABT,ABX,ACKH,ACV,ADM,AD..."
      ]
     },
     "execution_count": 1,
     "metadata": {},
     "output_type": "execute_result"
    }
   ],
   "source": [
    "import pandas as pd\n",
    "import numpy as np\n",
    "import matplotlib.pyplot as plt\n",
    "import utils as u\n",
    "import cvxpy as cp\n",
    "\n",
    "data = pd.read_csv('./data/S&P 500 Historical Composition.csv')\n",
    "data.head()"
   ]
  },
  {
   "cell_type": "code",
   "execution_count": 2,
   "metadata": {},
   "outputs": [
    {
     "data": {
      "text/html": [
       "<div>\n",
       "<style scoped>\n",
       "    .dataframe tbody tr th:only-of-type {\n",
       "        vertical-align: middle;\n",
       "    }\n",
       "\n",
       "    .dataframe tbody tr th {\n",
       "        vertical-align: top;\n",
       "    }\n",
       "\n",
       "    .dataframe thead th {\n",
       "        text-align: right;\n",
       "    }\n",
       "</style>\n",
       "<table border=\"1\" class=\"dataframe\">\n",
       "  <thead>\n",
       "    <tr style=\"text-align: right;\">\n",
       "      <th></th>\n",
       "      <th>tickers</th>\n",
       "    </tr>\n",
       "    <tr>\n",
       "      <th>date</th>\n",
       "      <th></th>\n",
       "    </tr>\n",
       "  </thead>\n",
       "  <tbody>\n",
       "    <tr>\n",
       "      <th>1996-01-02</th>\n",
       "      <td>[AAL, AAMRQ, AAPL, ABI, ABS, ABT, ABX, ACKH, A...</td>\n",
       "    </tr>\n",
       "    <tr>\n",
       "      <th>1996-01-03</th>\n",
       "      <td>[AAL, AAMRQ, AAPL, ABI, ABS, ABT, ABX, ACKH, A...</td>\n",
       "    </tr>\n",
       "    <tr>\n",
       "      <th>1996-01-04</th>\n",
       "      <td>[AAL, AAMRQ, AAPL, ABI, ABS, ABT, ABX, ACKH, A...</td>\n",
       "    </tr>\n",
       "    <tr>\n",
       "      <th>1996-01-10</th>\n",
       "      <td>[AAL, AAMRQ, AAPL, ABI, ABS, ABT, ABX, ACKH, A...</td>\n",
       "    </tr>\n",
       "    <tr>\n",
       "      <th>1996-01-11</th>\n",
       "      <td>[AAL, AAMRQ, AAPL, ABI, ABS, ABT, ABX, ACKH, A...</td>\n",
       "    </tr>\n",
       "  </tbody>\n",
       "</table>\n",
       "</div>"
      ],
      "text/plain": [
       "                                                      tickers\n",
       "date                                                         \n",
       "1996-01-02  [AAL, AAMRQ, AAPL, ABI, ABS, ABT, ABX, ACKH, A...\n",
       "1996-01-03  [AAL, AAMRQ, AAPL, ABI, ABS, ABT, ABX, ACKH, A...\n",
       "1996-01-04  [AAL, AAMRQ, AAPL, ABI, ABS, ABT, ABX, ACKH, A...\n",
       "1996-01-10  [AAL, AAMRQ, AAPL, ABI, ABS, ABT, ABX, ACKH, A...\n",
       "1996-01-11  [AAL, AAMRQ, AAPL, ABI, ABS, ABT, ABX, ACKH, A..."
      ]
     },
     "execution_count": 2,
     "metadata": {},
     "output_type": "execute_result"
    }
   ],
   "source": [
    "data['tickers'] = data['tickers'].apply(lambda x: x.split(','))\n",
    "data.index = pd.to_datetime(data['date'])\n",
    "data = data.drop('date', axis=1)\n",
    "data.head()"
   ]
  },
  {
   "cell_type": "code",
   "execution_count": 3,
   "metadata": {},
   "outputs": [
    {
     "name": "stdout",
     "output_type": "stream",
     "text": [
      "Number of unique stocks: 706\n"
     ]
    }
   ],
   "source": [
    "all_stocks = set()\n",
    "for stocks in data['tickers'].loc[data.index > '2016-01-01']:\n",
    "    for stock in stocks:\n",
    "        all_stocks.add(stock)\n",
    "\n",
    "print('Number of unique stocks:', len(all_stocks))"
   ]
  },
  {
   "cell_type": "code",
   "execution_count": 4,
   "metadata": {},
   "outputs": [
    {
     "name": "stderr",
     "output_type": "stream",
     "text": [
      "c:\\Users\\ttfee\\OneDrive\\Desktop\\Stock Forecasting\\utils.py:52: UserWarning: Converting to PeriodArray/Index representation will drop timezone information.\n",
      "  df.index = df.index.to_period('D')\n"
     ]
    }
   ],
   "source": [
    "curr_stocks = set()\n",
    "for stocks in data['tickers'].loc[data.index > '2024-11-01']:\n",
    "    for stock in stocks:\n",
    "        curr_stocks.add(stock)\n",
    "\n",
    "stock_data = u.get_stock_data()\n",
    "cols = [stock for stock in curr_stocks if stock in stock_data.columns]\n",
    "stock_data = stock_data[cols].loc[stock_data.index > '2019-01-01']\n",
    "description = stock_data.describe().T\n",
    "good_columns = description.loc[description['count'] == 1507].index\n",
    "stock_data = stock_data[good_columns]"
   ]
  },
  {
   "cell_type": "code",
   "execution_count": 26,
   "metadata": {},
   "outputs": [
    {
     "name": "stdout",
     "output_type": "stream",
     "text": [
      "0.001\n"
     ]
    },
    {
     "data": {
      "text/plain": [
       "TDG     0.1\n",
       "CHTR    0.1\n",
       "EQIX    0.1\n",
       "BLK     0.1\n",
       "REGN    0.1\n",
       "BKNG    0.1\n",
       "ORLY    0.1\n",
       "MTD     0.1\n",
       "NVR     0.1\n",
       "AZO     0.1\n",
       "dtype: float64"
      ]
     },
     "metadata": {},
     "output_type": "display_data"
    },
    {
     "name": "stdout",
     "output_type": "stream",
     "text": [
      "0.0012742749857031334\n"
     ]
    },
    {
     "data": {
      "text/plain": [
       "CHTR    0.100000\n",
       "EQIX    0.100000\n",
       "BLK     0.100000\n",
       "NVR     0.100000\n",
       "BKNG    0.100000\n",
       "TMO     0.100000\n",
       "MTD     0.100000\n",
       "REGN    0.100000\n",
       "ORLY    0.100000\n",
       "AZO     0.099999\n",
       "dtype: float64"
      ]
     },
     "metadata": {},
     "output_type": "display_data"
    },
    {
     "name": "stdout",
     "output_type": "stream",
     "text": [
      "0.001623776739188721\n"
     ]
    },
    {
     "data": {
      "text/plain": [
       "BLK     0.100000\n",
       "EQIX    0.100000\n",
       "MKTX    0.100000\n",
       "AZO     0.100000\n",
       "BKNG    0.100000\n",
       "CHTR    0.100000\n",
       "REGN    0.100000\n",
       "NVR     0.100000\n",
       "MTD     0.100000\n",
       "HUM     0.054496\n",
       "ORLY    0.045504\n",
       "dtype: float64"
      ]
     },
     "metadata": {},
     "output_type": "display_data"
    },
    {
     "name": "stdout",
     "output_type": "stream",
     "text": [
      "0.00206913808111479\n"
     ]
    },
    {
     "data": {
      "text/plain": [
       "MKTX    0.1\n",
       "CHTR    0.1\n",
       "EQIX    0.1\n",
       "NVR     0.1\n",
       "BLK     0.1\n",
       "MTD     0.1\n",
       "HUM     0.1\n",
       "BKNG    0.1\n",
       "REGN    0.1\n",
       "AZO     0.1\n",
       "dtype: float64"
      ]
     },
     "metadata": {},
     "output_type": "display_data"
    },
    {
     "name": "stdout",
     "output_type": "stream",
     "text": [
      "0.0026366508987303583\n"
     ]
    },
    {
     "data": {
      "text/plain": [
       "AZO     0.1\n",
       "HUM     0.1\n",
       "EQIX    0.1\n",
       "BKNG    0.1\n",
       "NVR     0.1\n",
       "BLK     0.1\n",
       "TFX     0.1\n",
       "MKTX    0.1\n",
       "MTD     0.1\n",
       "CHTR    0.1\n",
       "dtype: float64"
      ]
     },
     "metadata": {},
     "output_type": "display_data"
    },
    {
     "name": "stdout",
     "output_type": "stream",
     "text": [
      "0.003359818286283781\n"
     ]
    },
    {
     "data": {
      "text/plain": [
       "TFX     0.1\n",
       "CHTR    0.1\n",
       "MKTX    0.1\n",
       "ALGN    0.1\n",
       "HUM     0.1\n",
       "EQIX    0.1\n",
       "MTD     0.1\n",
       "BKNG    0.1\n",
       "AZO     0.1\n",
       "NVR     0.1\n",
       "dtype: float64"
      ]
     },
     "metadata": {},
     "output_type": "display_data"
    },
    {
     "name": "stdout",
     "output_type": "stream",
     "text": [
      "0.004281332398719396\n"
     ]
    },
    {
     "data": {
      "text/plain": [
       "BKNG    0.100000\n",
       "EQIX    0.100000\n",
       "MKTX    0.100000\n",
       "NVR     0.100000\n",
       "HUM     0.100000\n",
       "CHTR    0.100000\n",
       "TFX     0.100000\n",
       "MTD     0.100000\n",
       "PAYC    0.080121\n",
       "BA      0.047025\n",
       "BIIB    0.044060\n",
       "AZO     0.028794\n",
       "dtype: float64"
      ]
     },
     "metadata": {},
     "output_type": "display_data"
    },
    {
     "name": "stdout",
     "output_type": "stream",
     "text": [
      "0.00545559478116852\n"
     ]
    },
    {
     "data": {
      "text/plain": [
       "BIIB    0.100000\n",
       "MKTX    0.100000\n",
       "MTD     0.100000\n",
       "TFX     0.100000\n",
       "BA      0.100000\n",
       "HUM     0.100000\n",
       "CHTR    0.100000\n",
       "NVR     0.100000\n",
       "EQIX    0.100000\n",
       "BKNG    0.087655\n",
       "PAYC    0.012345\n",
       "dtype: float64"
      ]
     },
     "metadata": {},
     "output_type": "display_data"
    },
    {
     "name": "stdout",
     "output_type": "stream",
     "text": [
      "0.0069519279617756054\n"
     ]
    },
    {
     "data": {
      "text/plain": [
       "EQIX    0.100000\n",
       "HUM     0.100000\n",
       "MKTX    0.100000\n",
       "BIIB    0.100000\n",
       "BA      0.100000\n",
       "MTD     0.100000\n",
       "TFX     0.100000\n",
       "CHTR    0.100000\n",
       "BKNG    0.093814\n",
       "NVR     0.066440\n",
       "PAYC    0.039745\n",
       "dtype: float64"
      ]
     },
     "metadata": {},
     "output_type": "display_data"
    },
    {
     "name": "stdout",
     "output_type": "stream",
     "text": [
      "0.008858667904100823\n"
     ]
    },
    {
     "data": {
      "text/plain": [
       "MTD     0.100000\n",
       "BA      0.100000\n",
       "TFX     0.100000\n",
       "BIIB    0.100000\n",
       "HUM     0.100000\n",
       "MKTX    0.100000\n",
       "CHTR    0.100000\n",
       "EQIX    0.100000\n",
       "BKNG    0.099865\n",
       "PAYC    0.060657\n",
       "NVR     0.039478\n",
       "dtype: float64"
      ]
     },
     "metadata": {},
     "output_type": "display_data"
    },
    {
     "name": "stdout",
     "output_type": "stream",
     "text": [
      "0.011288378916846888\n"
     ]
    },
    {
     "data": {
      "text/plain": [
       "TFX     0.100000\n",
       "HUM     0.100000\n",
       "BIIB    0.100000\n",
       "MKTX    0.100000\n",
       "EQIX    0.100000\n",
       "CHTR    0.100000\n",
       "BKNG    0.100000\n",
       "MTD     0.100000\n",
       "BA      0.100000\n",
       "PAYC    0.079577\n",
       "NVR     0.020423\n",
       "dtype: float64"
      ]
     },
     "metadata": {},
     "output_type": "display_data"
    },
    {
     "name": "stdout",
     "output_type": "stream",
     "text": [
      "0.01438449888287663\n"
     ]
    },
    {
     "data": {
      "text/plain": [
       "BA      0.100002\n",
       "BIIB    0.100002\n",
       "HUM     0.100002\n",
       "TFX     0.100001\n",
       "MKTX    0.100001\n",
       "EQIX    0.100000\n",
       "CHTR    0.100000\n",
       "BKNG    0.100000\n",
       "MTD     0.100000\n",
       "PAYC    0.093235\n",
       "dtype: float64"
      ]
     },
     "metadata": {},
     "output_type": "display_data"
    },
    {
     "name": "stdout",
     "output_type": "stream",
     "text": [
      "0.018329807108324356\n"
     ]
    },
    {
     "data": {
      "text/plain": [
       "EQIX    0.100000\n",
       "MTD     0.100000\n",
       "MKTX    0.100000\n",
       "BA      0.100000\n",
       "SBAC    0.100000\n",
       "CHTR    0.100000\n",
       "HUM     0.100000\n",
       "BIIB    0.100000\n",
       "TFX     0.100000\n",
       "BKNG    0.085395\n",
       "NOC     0.014605\n",
       "dtype: float64"
      ]
     },
     "metadata": {},
     "output_type": "display_data"
    },
    {
     "name": "stdout",
     "output_type": "stream",
     "text": [
      "0.023357214690901212\n"
     ]
    },
    {
     "data": {
      "text/plain": [
       "MKTX    0.100000\n",
       "HUM     0.100000\n",
       "BA      0.100000\n",
       "TFX     0.100000\n",
       "CHTR    0.100000\n",
       "BIIB    0.100000\n",
       "MTD     0.100000\n",
       "EQIX    0.100000\n",
       "RTX     0.084609\n",
       "BKNG    0.063232\n",
       "NOC     0.045738\n",
       "dtype: float64"
      ]
     },
     "metadata": {},
     "output_type": "display_data"
    },
    {
     "name": "stdout",
     "output_type": "stream",
     "text": [
      "0.029763514416313176\n"
     ]
    },
    {
     "data": {
      "text/plain": [
       "RTX     0.100001\n",
       "BA      0.100000\n",
       "EQIX    0.099999\n",
       "BIIB    0.099998\n",
       "MTD     0.099997\n",
       "TFX     0.099997\n",
       "HUM     0.099997\n",
       "MKTX    0.099996\n",
       "CHTR    0.099994\n",
       "BKNG    0.050911\n",
       "FTV     0.038463\n",
       "NOC     0.011812\n",
       "dtype: float64"
      ]
     },
     "metadata": {},
     "output_type": "display_data"
    },
    {
     "name": "stdout",
     "output_type": "stream",
     "text": [
      "0.0379269019073225\n"
     ]
    },
    {
     "data": {
      "text/plain": [
       "MKTX    0.100000\n",
       "HUM     0.100000\n",
       "RTX     0.100000\n",
       "BA      0.100000\n",
       "TFX     0.100000\n",
       "CHTR    0.100000\n",
       "BIIB    0.100000\n",
       "NOC     0.077813\n",
       "MTD     0.071186\n",
       "EQIX    0.062471\n",
       "FTV     0.044483\n",
       "BKNG    0.044048\n",
       "dtype: float64"
      ]
     },
     "metadata": {},
     "output_type": "display_data"
    },
    {
     "name": "stdout",
     "output_type": "stream",
     "text": [
      "0.04832930238571752\n"
     ]
    },
    {
     "data": {
      "text/plain": [
       "MKTX    0.100000\n",
       "BA      0.100000\n",
       "CHTR    0.100000\n",
       "NOC     0.100000\n",
       "HUM     0.100000\n",
       "BIIB    0.100000\n",
       "TFX     0.100000\n",
       "FTV     0.096105\n",
       "RTX     0.079025\n",
       "MTD     0.055491\n",
       "BKNG    0.039842\n",
       "EQIX    0.027979\n",
       "dtype: float64"
      ]
     },
     "metadata": {},
     "output_type": "display_data"
    },
    {
     "name": "stdout",
     "output_type": "stream",
     "text": [
      "0.06158482110660261\n"
     ]
    },
    {
     "data": {
      "text/plain": [
       "RTX     0.100003\n",
       "BA      0.100002\n",
       "BIIB    0.100002\n",
       "FTV     0.100002\n",
       "HUM     0.100002\n",
       "TFX     0.100001\n",
       "NOC     0.100001\n",
       "MKTX    0.100001\n",
       "CHTR    0.100000\n",
       "MTD     0.032677\n",
       "BKNG    0.029835\n",
       "EQIX    0.024913\n",
       "AZO     0.011340\n",
       "dtype: float64"
      ]
     },
     "metadata": {},
     "output_type": "display_data"
    },
    {
     "name": "stdout",
     "output_type": "stream",
     "text": [
      "0.07847599703514611\n"
     ]
    },
    {
     "data": {
      "text/plain": [
       "FTV     0.100000\n",
       "MKTX    0.100000\n",
       "NOC     0.100000\n",
       "CHTR    0.100000\n",
       "HUM     0.100000\n",
       "TFX     0.100000\n",
       "RTX     0.100000\n",
       "BIIB    0.100000\n",
       "BA      0.100000\n",
       "BDX     0.037797\n",
       "BKNG    0.023886\n",
       "AZO     0.018561\n",
       "MTD     0.014755\n",
       "dtype: float64"
      ]
     },
     "metadata": {},
     "output_type": "display_data"
    },
    {
     "name": "stdout",
     "output_type": "stream",
     "text": [
      "0.1\n"
     ]
    },
    {
     "data": {
      "text/plain": [
       "MKTX    0.100000\n",
       "BIIB    0.100000\n",
       "TFX     0.100000\n",
       "FTV     0.100000\n",
       "BA      0.100000\n",
       "HUM     0.100000\n",
       "RTX     0.100000\n",
       "CHTR    0.100000\n",
       "NOC     0.100000\n",
       "BDX     0.055951\n",
       "AZO     0.023288\n",
       "BKNG    0.018353\n",
       "dtype: float64"
      ]
     },
     "metadata": {},
     "output_type": "display_data"
    }
   ],
   "source": [
    "import utils as u\n",
    "import cvxpy as cp\n",
    "\n",
    "Q = u.quadratic_form(stock_data)\n",
    "r = u.returns(stock_data)\n",
    "\n",
    "p = cp.Variable(Q.shape[0])\n",
    "constraints = [\n",
    "    cp.sum(p) == 1,\n",
    "    p >= 0,\n",
    "    p <= 0.1\n",
    "]\n",
    "\n",
    "# U(p; beta) = returns - beta * trend-weighted risk\n",
    "betas = [10**i for i in np.linspace(-3, -1, 20)]\n",
    "for beta in betas:\n",
    "    function = r.transpose() @ p - beta * cp.quad_form(p, Q, assume_PSD=True)\n",
    "    objective = cp.Maximize(function)\n",
    "    problem = cp.Problem(objective, constraints)\n",
    "    problem.solve()\n",
    "\n",
    "    series = pd.Series(p.value, index=stock_data.columns)\n",
    "    print(beta)\n",
    "    series.sort_values(ascending=False, inplace=True)\n",
    "    display(series.loc[series > 0.01])"
   ]
  }
 ],
 "metadata": {
  "kernelspec": {
   "display_name": ".venv",
   "language": "python",
   "name": "python3"
  },
  "language_info": {
   "codemirror_mode": {
    "name": "ipython",
    "version": 3
   },
   "file_extension": ".py",
   "mimetype": "text/x-python",
   "name": "python",
   "nbconvert_exporter": "python",
   "pygments_lexer": "ipython3",
   "version": "3.11.0"
  }
 },
 "nbformat": 4,
 "nbformat_minor": 2
}
